{
  "cells": [
    {
      "cell_type": "code",
      "execution_count": null,
      "metadata": {
        "collapsed": false
      },
      "outputs": [],
      "source": [
        "%matplotlib inline"
      ]
    },
    {
      "cell_type": "markdown",
      "metadata": {},
      "source": [
        "\n",
        "# Use Tensor Expression Debug Display (TEDD) for Visualization\n",
        "**Author**: [Yongfeng Gu](https://github.com/yongfeng-nv)\n",
        "\n",
        "This is an introduction about using TEDD to visualize tensor expressions.\n",
        "\n",
        "Tensor Expressions are scheduled with primitives.  Although individual\n",
        "primitives are usually easy to understand, they become complicated quickly\n",
        "when you put them together. We have introduced an operational model of\n",
        "schedule primitives in Tensor Expression.\n",
        "\n",
        "* the interactions between different schedule primitives,\n",
        "* the impact of the schedule primitives on the final code generation.\n",
        "\n",
        "The operational model is based on a Dataflow Graph, a Schedule Tree and an\n",
        "IterVar Relationship Graph. Schedule primitives perform operations on these\n",
        "graphs.\n",
        "\n",
        "TEDD renders these three graphs from a given schedule.  This tutorial demonstrates\n",
        "how to use TEDD and how to interpret the rendered graphs.\n"
      ]
    },
    {
      "cell_type": "code",
      "execution_count": null,
      "metadata": {
        "collapsed": false
      },
      "outputs": [],
      "source": [
        "import tvm\n",
        "from tvm import te\n",
        "from tvm import topi\n",
        "from tvm.contrib import tedd"
      ]
    },
    {
      "cell_type": "markdown",
      "metadata": {},
      "source": [
        "## Define and Schedule Convolution with Bias and ReLU\n",
        "Let's build an example Tensor Expression for a convolution followed by Bias and ReLU.\n",
        "We first connect conv2d, add, and relu TOPIs.  Then, we create a TOPI generic schedule.\n",
        "\n",
        "\n"
      ]
    },
    {
      "cell_type": "code",
      "execution_count": null,
      "metadata": {
        "collapsed": false
      },
      "outputs": [],
      "source": [
        "batch = 1\n",
        "in_channel = 256\n",
        "in_size = 32\n",
        "num_filter = 256\n",
        "kernel = 3\n",
        "stride = 1\n",
        "padding = \"SAME\"\n",
        "dilation = 1\n",
        "\n",
        "A = te.placeholder((in_size, in_size, in_channel, batch), name=\"A\")\n",
        "W = te.placeholder((kernel, kernel, in_channel, num_filter), name=\"W\")\n",
        "B = te.placeholder((1, num_filter, 1), name=\"bias\")\n",
        "\n",
        "with tvm.target.Target(\"llvm\"):\n",
        "    t_conv = topi.nn.conv2d_hwcn(A, W, stride, padding, dilation)\n",
        "    t_bias = topi.add(t_conv, B)\n",
        "    t_relu = topi.nn.relu(t_bias)\n",
        "    s = topi.generic.schedule_conv2d_hwcn([t_relu])"
      ]
    },
    {
      "cell_type": "markdown",
      "metadata": {},
      "source": [
        "## Render Graphs with TEDD\n",
        "We render graphs to see the computation\n",
        "and how it is scheduled.\n",
        "If you run the tutorial in a Jupyter notebook, you can use the following commented lines\n",
        "to render SVG figures showing in notebook directly.\n",
        "\n",
        "\n"
      ]
    },
    {
      "cell_type": "code",
      "execution_count": null,
      "metadata": {
        "collapsed": false
      },
      "outputs": [],
      "source": [
        "tedd.viz_dataflow_graph(s, dot_file_path=\"/tmp/dfg.dot\")\n",
        "# tedd.viz_dataflow_graph(s, show_svg = True)"
      ]
    },
    {
      "cell_type": "markdown",
      "metadata": {},
      "source": [
        "<img src=\"https://github.com/dmlc/web-data/raw/main/tvm/tutorial/tedd_dfg.png\" align=\"center\">\n",
        "\n",
        "The first one is a dataflow graph.  Every node represents a stage with name and memory\n",
        "scope shown in the middle and inputs/outputs information on the sides.\n",
        "Edges show nodes' dependency.\n",
        "\n",
        "\n"
      ]
    },
    {
      "cell_type": "code",
      "execution_count": null,
      "metadata": {
        "collapsed": false
      },
      "outputs": [],
      "source": [
        "tedd.viz_schedule_tree(s, dot_file_path=\"/tmp/scheduletree.dot\")\n",
        "# tedd.viz_schedule_tree(s, show_svg = True)"
      ]
    },
    {
      "cell_type": "markdown",
      "metadata": {},
      "source": [
        "We just rendered the schedule tree graph.  You may notice an warning about ranges not\n",
        "available.\n",
        "The message also suggests to call normalize() to infer range information.  We will\n",
        "skip inspecting the first schedule tree and encourage you to compare the graphs before\n",
        "and after normalize() for its impact.\n",
        "\n",
        "\n"
      ]
    },
    {
      "cell_type": "code",
      "execution_count": null,
      "metadata": {
        "collapsed": false
      },
      "outputs": [],
      "source": [
        "s = s.normalize()\n",
        "tedd.viz_schedule_tree(s, dot_file_path=\"/tmp/scheduletree2.dot\")\n",
        "# tedd.viz_schedule_tree(s, show_svg = True)"
      ]
    },
    {
      "cell_type": "markdown",
      "metadata": {},
      "source": [
        "<img src=\"https://github.com/dmlc/web-data/raw/main/tvm/tutorial/tedd_st.png\" align=\"center\">\n",
        "\n",
        "Now, let us take a close look at the second schedule tree.  Every block under ROOT\n",
        "represents a\n",
        "stage.  Stage name shows in the top row and compute shows in the bottom row.\n",
        "The middle rows are for IterVars, the higher the outer, the lower the inner.\n",
        "An IterVar row contains its index, name, type, and other optional information.\n",
        "Let's use the W.shared stage as an example.  The top row tells\n",
        "its name, \"W.shared\", and memory scope, \"Shared\".  Its compute is\n",
        ":code:`W(ax0, ax1, ax2, ax3)`.\n",
        "Its outer most loop IterVar is ax0.ax1.fused.ax2.fused.ax3.fused.outer,\n",
        "indexed with 0, of kDataPar, bound to threadIdx.y, and with range(min=0, ext=8).\n",
        "You can also tell\n",
        "IterVar type with the index box color, shown in the legend.\n",
        "\n",
        "If a stage doesn't compute_at any other stage, it has an edge directly to the\n",
        "ROOT node.  Otherwise, it has an edge pointing to the IterVar it attaches to,\n",
        "such as W.shared attaches to rx.outer in the middle compute stage.\n",
        "\n",
        "\n"
      ]
    },
    {
      "cell_type": "markdown",
      "metadata": {},
      "source": [
        "<div class=\"alert alert-info\"><h4>Note</h4><p>By definition, IterVars are internal nodes and computes are leaf nodes in\n",
        "  a schedule tree.   The edges among IterVars and compute within one stage are\n",
        "  omitted, making every stage a block, for better readability.</p></div>\n",
        "\n",
        "\n"
      ]
    },
    {
      "cell_type": "code",
      "execution_count": null,
      "metadata": {
        "collapsed": false
      },
      "outputs": [],
      "source": [
        "tedd.viz_itervar_relationship_graph(s, dot_file_path=\"/tmp/itervar.dot\")\n",
        "# tedd.viz_itervar_relationship_graph(s, show_svg = True)"
      ]
    },
    {
      "cell_type": "markdown",
      "metadata": {},
      "source": [
        "<img src=\"https://github.com/dmlc/web-data/raw/main/tvm/tutorial/tedd_itervar_rel.png\" align=\"center\">\n",
        "\n",
        "The last one is an IterVar Relationship Graph.  Every subgraph represents a\n",
        "stage and contains IterVar nodes and transformation nodes.  For example,\n",
        "W.shared has three split nodes and three fuse nodes.  The rest are IterVar\n",
        "nodes of the same format as the IterVar rows in Schedule Trees.  Root\n",
        "IterVars are those not driven by any transformation node, such as ax0; leaf\n",
        "IterVars don't drive any transformation node and have non-negative indices,\n",
        "such as ax0.ax1.fused.ax2.fused.ax3.fused.outer with index of 0.\n",
        "\n",
        "\n"
      ]
    },
    {
      "cell_type": "markdown",
      "metadata": {},
      "source": [
        "## Summary\n",
        "This tutorial demonstrates the usage of TEDD.  We use an example built\n",
        "with TOPI to show the schedules under the hood.  You can also use\n",
        "it before and after any schedule primitive to inspect its effect.\n",
        "\n",
        "\n"
      ]
    }
  ],
  "metadata": {
    "kernelspec": {
      "display_name": "Python 3.8.13 ('py38')",
      "language": "python",
      "name": "python3"
    },
    "language_info": {
      "codemirror_mode": {
        "name": "ipython",
        "version": 3
      },
      "file_extension": ".py",
      "mimetype": "text/x-python",
      "name": "python",
      "nbconvert_exporter": "python",
      "pygments_lexer": "ipython3",
      "version": "3.8.13"
    },
    "vscode": {
      "interpreter": {
        "hash": "221bae69870c1675c4cfc152c4d60c3a5cfbb0e1cf1a5072332d9dded6c10f66"
      }
    }
  },
  "nbformat": 4,
  "nbformat_minor": 0
}
