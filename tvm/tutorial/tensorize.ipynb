{
  "cells": [
    {
      "cell_type": "code",
      "execution_count": null,
      "metadata": {
        "collapsed": false
      },
      "outputs": [],
      "source": [
        "%matplotlib inline"
      ]
    },
    {
      "cell_type": "markdown",
      "metadata": {},
      "source": [
        "\n",
        "\n",
        "# Use Tensorize to Leverage Hardware Intrinsics\n",
        "**Author**: [Yizhi Liu](https://github.com/yzhliu)\n",
        "\n",
        "This is an introduction material on how to perform tensorization in TVM.\n",
        "\n",
        "By using schedule primitive :code:`tensorize`,\n",
        "people can replace a unit of computation with the corresponding intrinsics,\n",
        "making it easy to leverage handcrafted micro-kernels,\n",
        "as well as extend TVM to support new hardware architectures.\n",
        "\n",
        "The purpose of this tutorial is to show the functionality\n",
        "and usage of tensorize instead of providing an efficient solution.\n",
        "\n",
        "在GCU平台上我们可以用 L1-Kernel 这个 Level 去对接 code:`tensorize`，卷积和矩阵乘可以用 ConvGen 来对接。"
      ]
    },
    {
      "cell_type": "code",
      "execution_count": null,
      "metadata": {
        "collapsed": false
      },
      "outputs": [],
      "source": [
        "from __future__ import absolute_import, print_function\n",
        "\n",
        "\n",
        "import tvm\n",
        "from tvm import te\n",
        "import tvm.testing\n",
        "import numpy as np"
      ]
    },
    {
      "cell_type": "markdown",
      "metadata": {},
      "source": [
        "## Define Matrix Multiplication\n",
        "Take matrix multiplication as our example.\n",
        "Matmul first multiply the corresponding elements between two matrix,\n",
        "then accumulate across a certain axis.\n",
        "The following lines describe the computation :code:`A * B^T` in TVM.\n",
        "\n",
        "\n"
      ]
    },
    {
      "cell_type": "code",
      "execution_count": null,
      "metadata": {
        "collapsed": false
      },
      "outputs": [],
      "source": [
        "M, N, K = 1024, 512, 64\n",
        "A = te.placeholder((M, K), name=\"A\")\n",
        "B = te.placeholder((N, K), name=\"B\")\n",
        "k = te.reduce_axis((0, K), name=\"k\")\n",
        "C = te.compute((M, N), lambda i, j: te.sum(A[i, k] * B[j, k], axis=k), name=\"C\")\n",
        "s = te.create_schedule(C.op)\n",
        "print(tvm.lower(s, [A, B, C], simple_mode=True))"
      ]
    },
    {
      "cell_type": "markdown",
      "metadata": {},
      "source": [
        "## Schedule the Matmul\n",
        "Now, suppose we have an accelerator that supports\n",
        "matrix-vector multiplication (GEMV) as a hardware primitive,\n",
        "which can take arbitrary size of reduce axis,\n",
        "but another axis needs to be no larger than 16.\n",
        "Thus we break down the matmul loops to make the innermost loops a (16x64) GEMV.\n",
        "\n",
        "\n"
      ]
    },
    {
      "cell_type": "code",
      "execution_count": null,
      "metadata": {
        "collapsed": false
      },
      "outputs": [],
      "source": [
        "factor = 16\n",
        "x, y = C.op.axis\n",
        "(z,) = C.op.reduce_axis\n",
        "yo, yi = s[C].split(y, factor=factor)\n",
        "s[C].reorder(x, yo, yi, z)\n",
        "print(tvm.lower(s, [A, B, C], simple_mode=True))"
      ]
    },
    {
      "cell_type": "markdown",
      "metadata": {},
      "source": [
        "As showed in the IR printed above,\n",
        "the inner loops :code:`j.inner` along with :code:`k` together form a computation of GEMV\n",
        "- within the inner most two loops, the index :code:`i` is fixed,\n",
        "the access to the matrix :code:`A` only varies by :code:`k`,\n",
        "which makes the access pattern of :code:`A` a \"vector\".\n",
        "In order to leverage our hypothetical hardware's GEMV instruction,\n",
        "we can tensorize over :code:`j.inner`.\n",
        "\n",
        "## Define GEMV Tensorization Intrinsic\n",
        "Before scheduling the tensorization, we need to first define the intrinsic function for GEMV.\n",
        "It includes two parts, the first is a compute definition of GEMV.\n",
        "TVM uses it to match the computing pattern in the original Matmul schedule.\n",
        "The second is to specify how to execute GEMV on the device,\n",
        "which is done in :code:`intrin_func` below.\n",
        "\n",
        "\n"
      ]
    },
    {
      "cell_type": "code",
      "execution_count": null,
      "metadata": {
        "collapsed": false
      },
      "outputs": [],
      "source": [
        "def intrin_gemv(m, l):\n",
        "    a = te.placeholder((l,), name=\"a\")\n",
        "    b = te.placeholder((m, l), name=\"b\")\n",
        "    k = te.reduce_axis((0, l), name=\"k\")\n",
        "    c = te.compute((m,), lambda i: te.sum(a[k] * b[i, k], axis=k), name=\"c\")\n",
        "    Ab = tvm.tir.decl_buffer(a.shape, a.dtype, name=\"A\", offset_factor=1, strides=[1])\n",
        "    Bb = tvm.tir.decl_buffer(b.shape, b.dtype, name=\"B\", offset_factor=1, strides=[te.var(\"s1\"), 1])\n",
        "    Cb = tvm.tir.decl_buffer(c.shape, c.dtype, name=\"C\", offset_factor=1, strides=[1])\n",
        "\n",
        "    def intrin_func(ins, outs):\n",
        "        ib = tvm.tir.ir_builder.create()\n",
        "        aa, bb = ins\n",
        "        cc = outs[0]\n",
        "        ib.emit(\n",
        "            tvm.tir.call_extern(\n",
        "                \"int32\",\n",
        "                \"gemv_update\",\n",
        "                cc.access_ptr(\"w\"),\n",
        "                aa.access_ptr(\"r\"),\n",
        "                bb.access_ptr(\"r\"),\n",
        "                m,\n",
        "                l,\n",
        "                bb.strides[0],\n",
        "            )\n",
        "        )\n",
        "        return ib.get()\n",
        "\n",
        "    return te.decl_tensor_intrin(c.op, intrin_func, binds={a: Ab, b: Bb, c: Cb})"
      ]
    },
    {
      "cell_type": "markdown",
      "metadata": {},
      "source": [
        "Here :code:`te.decl_tensor_intrin` declares how to execute the computation :code:`c.op`.\n",
        "Our implementation simply takes the inputs and outputs,\n",
        "converts them to pointers and emit an external function call.\n",
        "Note that tensorization requires user to specify :code:`offset_factor`,\n",
        "with this information, TVM has knowledge of whether the data is aligned\n",
        "between the start address of the original data structure\n",
        "and the offset being passed to tensorize,\n",
        "so that it has chance to optimize with vectorized loading.\n",
        "We set the factor to 1 for simplification.\n",
        "\n",
        "Buffers are also declared for inputs and outputs, though this is not required,\n",
        "we benefit from the extra information provided by buffers. For example, we pass\n",
        ":code:`bb.strides[0]` as an argument to the external function :code:`gemv_update`.\n",
        "For now :code:`bb.strides[0] == l`,\n",
        "but later we will see how they can differ with more complicated schedules.\n",
        "\n",
        "Note that we use :code:`te.var(\"s1\")` as the first stride dimension for :code:`B`.\n",
        "If the strides can be inferred\n",
        "- in this case, TVM knows tensor B is compact thus the strides are :code:`[L, 1]` -\n",
        "such placeholder can be put to let TVM automatically bind the inferred value for us.\n",
        "\n",
        "`tensorize` 的具体实现的代码在 `tvm/src/te/schedule/schedule_lang.cc`\n",
        "\n",
        "* 第一个参数是个 iteration， 定义 `tensorize` 边界\n",
        "* 第二个参数是个 func，定义 tensor operator\n"
      ]
    },
    {
      "cell_type": "code",
      "execution_count": null,
      "metadata": {
        "collapsed": false
      },
      "outputs": [],
      "source": [
        "gemv = intrin_gemv(factor, K)\n",
        "s[C].tensorize(yi, gemv)\n",
        "print(tvm.lower(s, [A, B, C], simple_mode=True))"
      ]
    },
    {
      "cell_type": "markdown",
      "metadata": {},
      "source": [
        "By tensorizing over :code:`yi`, the inner most two loops are\n",
        "now replaced by the intrinsic function we defined before.\n",
        "In order to build and run the module, let's define the external function :code:`gemv_update`,\n",
        "it is a naive implementation of GEMV, just for demonstration.\n",
        "\n",
        "\n"
      ]
    },
    {
      "cell_type": "code",
      "execution_count": null,
      "metadata": {
        "collapsed": false
      },
      "outputs": [],
      "source": [
        "def gemv_impl():\n",
        "    cc_code = \"\"\"\n",
        "      extern \"C\" int gemv_update(float *cc, float *aa, float *bb, int m, int l, int stride) {\n",
        "        for (int i = 0; i < m; ++i) {\n",
        "            for (int j = 0; j < l; ++j) {\n",
        "                cc[i] += aa[j] * bb[i * stride + j];\n",
        "            }\n",
        "        }\n",
        "        return 0;\n",
        "      }\n",
        "    \"\"\"\n",
        "    from tvm.contrib import utils, clang\n",
        "\n",
        "    temp = utils.tempdir()\n",
        "    ll_path = temp.relpath(\"temp.ll\")\n",
        "    # Create LLVM ir from c source code\n",
        "    ll_code = clang.create_llvm(cc_code, output=ll_path)\n",
        "    return ll_code"
      ]
    },
    {
      "cell_type": "markdown",
      "metadata": {},
      "source": [
        "Now we leverage the pragma attribute :code:`import_llvm` to import llvm asm inline.\n",
        "The importing needs to happen before the tensorized GEMV being executed.\n",
        "\n",
        "\n"
      ]
    },
    {
      "cell_type": "code",
      "execution_count": null,
      "metadata": {
        "collapsed": false
      },
      "outputs": [],
      "source": [
        "s[C].pragma(x, \"import_llvm\", gemv_impl())\n",
        "print(tvm.lower(s, [A, B, C], simple_mode=True))"
      ]
    },
    {
      "cell_type": "markdown",
      "metadata": {},
      "source": [
        "Finally we compare the tensorize version with that :code:`numpy.dot` produces,\n",
        "ensure our implementation is correct.\n",
        "\n",
        "\n"
      ]
    },
    {
      "cell_type": "code",
      "execution_count": null,
      "metadata": {
        "collapsed": false
      },
      "outputs": [],
      "source": [
        "def llvm_test():\n",
        "  func = tvm.build(s, [A, B, C], target=\"llvm\", name=\"gemv\")\n",
        "\n",
        "  from tvm.topi.utils import get_const_tuple\n",
        "\n",
        "  dtype = A.dtype\n",
        "  dev = tvm.device(\"cpu\", 0)\n",
        "  a = np.random.uniform(size=get_const_tuple(A.shape)).astype(dtype)\n",
        "  b = np.random.uniform(size=get_const_tuple(B.shape)).astype(dtype)\n",
        "  c = tvm.nd.array(np.zeros(get_const_tuple(C.shape), dtype=dtype), dev)\n",
        "  func(tvm.nd.array(a, dev), tvm.nd.array(b, dev), c)\n",
        "  tvm.testing.assert_allclose(c.numpy(), np.dot(a, b.T), rtol=1e-3)\n",
        "\n",
        "# FIXME: error\n",
        "# llvm_test()"
      ]
    },
    {
      "cell_type": "markdown",
      "metadata": {},
      "source": [
        "## Reduce-update for Tensorize\n",
        "So far you have learned the basic idea of tensorize,\n",
        "now let's move one step forward to a more complicated case.\n",
        "\n",
        "Assume our accelerator could only multiply a vector by a square matrix,\n",
        "in which the vector size needs to be no larger than 16.\n",
        "Given such hardware constrain, now we need to split the reduce axis as following,\n",
        "\n",
        "假设一个加速器只提供了 _GEMV_ 指令，并且要求 vector size 不能超过 16。我们用下面的代码展示一下 切分 reduce axis的方式。\n"
      ]
    },
    {
      "cell_type": "code",
      "execution_count": null,
      "metadata": {
        "collapsed": false
      },
      "outputs": [],
      "source": [
        "zo, zi = s[C].split(z, factor=factor)\n",
        "s[C].reorder(x, yo, zo, yi, zi)"
      ]
    },
    {
      "cell_type": "markdown",
      "metadata": {},
      "source": [
        "However, since the tensorize intrinsic now only covers a part of the reduce axis,\n",
        "instead of using one \"body\" function, TVM requires a :code:`reduce_reset` function,\n",
        "which will be invoked before the reduce for-loop, and a :code:`reduce_update` function,\n",
        "which defines the \"update\" computing strategy.\n",
        "\n",
        "\n"
      ]
    },
    {
      "cell_type": "code",
      "execution_count": null,
      "metadata": {
        "collapsed": false
      },
      "outputs": [],
      "source": [
        "def gemv_impl():\n",
        "    cc_code = \"\"\"\n",
        "      extern \"C\" int gemv_update(float *cc, float *aa, float *bb, int m, int l, int stride) {\n",
        "        for (int i = 0; i < m; ++i) {\n",
        "            for (int j = 0; j < l; ++j) {\n",
        "                cc[i] += aa[j] * bb[i * stride + j];\n",
        "            }\n",
        "        }\n",
        "        return 0;\n",
        "      }\n",
        "      extern \"C\" int gemv_reset(float *cc, int m) {\n",
        "        for (int i = 0; i < m; ++i) {\n",
        "            cc[i] = 0.0;\n",
        "        }\n",
        "        return 0;\n",
        "      }\n",
        "    \"\"\"\n",
        "    from tvm.contrib import utils, clang\n",
        "\n",
        "    temp = utils.tempdir()\n",
        "    ll_path = temp.relpath(\"temp.ll\")\n",
        "    # Create LLVM ir from c source code\n",
        "    ll_code = clang.create_llvm(cc_code, output=ll_path)\n",
        "    return ll_code\n",
        "\n",
        "\n",
        "def intrin_gemv(m, l):\n",
        "    a = te.placeholder((l,), name=\"a\")\n",
        "    b = te.placeholder((m, l), name=\"b\")\n",
        "    k = te.reduce_axis((0, l), name=\"k\")\n",
        "    c = te.compute((m,), lambda i: te.sum(a[k] * b[i, k], axis=k), name=\"c\")\n",
        "    Ab = tvm.tir.decl_buffer(a.shape, a.dtype, name=\"A\", offset_factor=1, strides=[1])\n",
        "    Bb = tvm.tir.decl_buffer(b.shape, b.dtype, name=\"B\", offset_factor=1, strides=[te.var(\"s1\"), 1])\n",
        "    Cb = tvm.tir.decl_buffer(c.shape, c.dtype, name=\"C\", offset_factor=1, strides=[1])\n",
        "\n",
        "    def intrin_func(ins, outs):\n",
        "        aa, bb = ins\n",
        "        cc = outs[0]\n",
        "\n",
        "        def _body():\n",
        "            ib = tvm.tir.ir_builder.create()\n",
        "            ib.emit(\n",
        "                tvm.tir.call_extern(\n",
        "                    \"int32\",\n",
        "                    \"gemv_update\",\n",
        "                    cc.access_ptr(\"w\"),\n",
        "                    aa.access_ptr(\"r\"),\n",
        "                    bb.access_ptr(\"r\"),\n",
        "                    m,\n",
        "                    l,\n",
        "                    bb.strides[0],\n",
        "                )\n",
        "            )\n",
        "            return ib.get()\n",
        "\n",
        "        def _reduce_reset():\n",
        "            ib = tvm.tir.ir_builder.create()\n",
        "            ib.emit(tvm.tir.call_extern(\"int32\", \"gemv_reset\", cc.access_ptr(\"w\"), m))\n",
        "            return ib.get()\n",
        "\n",
        "        def _reduce_update():\n",
        "            return _body()\n",
        "\n",
        "        return _body(), _reduce_reset(), _reduce_update()\n",
        "\n",
        "    return te.decl_tensor_intrin(c.op, intrin_func, binds={a: Ab, b: Bb, c: Cb})"
      ]
    },
    {
      "cell_type": "markdown",
      "metadata": {},
      "source": [
        "Note that :code:`intrin_func` now returns a triplet:\n",
        ":code:`(body, reduce_reset, reduce_update)`.\n",
        "If tensorization includes all the reduce axes, function :code:`body()` will be invoked,\n",
        "otherwise :code:`reduce_reset()` and :code:`reduce_update()` together will be used.\n",
        "In our example :code:`body()` and :code:`reduce_update()`\n",
        "share the same implementation,\n",
        "while in other cases, hardware may have different instructions for these two functions.\n",
        "Moreover, we can see now :code:`bb.strides[0]` is different from :code:`l`\n",
        "due to the tiling.\n",
        "\n",
        "Tensorize for squared GEMV, build and check the results,\n",
        "\n",
        "___说明___ : `intrin_func` 返回了个三元组，如果 :code:`tensorize` 包含全部规约维度，那么 `body()`会被调用，就像上面的第一个例子一样。\n",
        "如果没有包含全部的规约维度，那么 :code:`reduce_reset()` 和 :code:`reduce_update()` 将被组合使用。\n",
        "`tensorize` 不能支持变量进行切分， 具体原因不明。这个行为貌似希望我们将 `tensorize` 对应到2D指令上而不是ConvGen这种 High Level Kernel上：\n",
        "```\n",
        "  TVMError: Tensorize failed, split condition tir.likely(((j.inner + (j.outer*16)) < n)) relies on var defined inside tensorize scope\n",
        "```\n",
        "\n"
      ]
    },
    {
      "cell_type": "code",
      "execution_count": null,
      "metadata": {
        "collapsed": false
      },
      "outputs": [],
      "source": [
        "def test_tsrz():\n",
        "  #M = te.var(\"m\")\n",
        "  M = 1024\n",
        "  \n",
        "  # var-n error!\n",
        "  #N = te.var(\"n\")\n",
        "  N = 1024\n",
        "  \n",
        "  # var-l error!\n",
        "  #K = te.var(\"k\")\n",
        "  K = 64\n",
        "  \n",
        "  A = te.placeholder((M, K), name=\"A\")\n",
        "  B = te.placeholder((N, K), name=\"B\")\n",
        "  k = te.reduce_axis((0, K), name=\"k\")\n",
        "  C = te.compute((M, N), lambda i, j: te.sum(A[i, k] * B[j, k], axis=k), name=\"C\")\n",
        "  s = te.create_schedule(C.op)\n",
        "  x, y = C.op.axis\n",
        "  (z,) = C.op.reduce_axis\n",
        "  factor = 16\n",
        "  yo, yi = s[C].split(y, factor=factor)\n",
        "  zo, zi = s[C].split(z, factor=factor)  \n",
        "  s[C].reorder(x, yo, zo, yi, zi)\n",
        "  gemv = intrin_gemv(factor, factor)\n",
        "  s[C].tensorize(yi, gemv)\n",
        "  print(tvm.lower(s, [A, B, C], simple_mode=True))\n",
        "  \n",
        "  print('*'*64)\n",
        "  print('import_llvm:  @gemv_update and @gemv_reset')\n",
        "  print('*'*64)\n",
        "  s[C].pragma(yo, \"import_llvm\", gemv_impl())\n",
        "  print(tvm.lower(s, [A, B, C], simple_mode=True))\n",
        "\n",
        "  ### fault\n",
        "  # from tvm.topi.utils import get_const_tuple\n",
        "  # dtype = A.dtype\n",
        "  # dev = tvm.device(\"cpu\", 0)\n",
        "  # func = tvm.build(s, [A, B, C], target=\"llvm\", name=\"gemv\")\n",
        "  # a = np.random.uniform(size=get_const_tuple(A.shape)).astype(dtype)\n",
        "  # b = np.random.uniform(size=get_const_tuple(B.shape)).astype(dtype)\n",
        "  # c = tvm.nd.array(np.zeros(get_const_tuple(C.shape), dtype=dtype), dev)\n",
        "  # func(tvm.nd.array(a, dev), tvm.nd.array(b, dev), c)\n",
        "  # tvm.testing.assert_allclose(c.numpy(), np.dot(a, b.T), rtol=1e-3)\n",
        "\n",
        "test_tsrz()\n"
      ]
    },
    {
      "cell_type": "markdown",
      "metadata": {},
      "source": [
        "## Summary\n",
        "This tutorial demonstrates the usage of tensorize intrinsic in TVM.\n",
        "Tensorize provides a way for users to get fully optimized schedule via micro-kernels.\n",
        "For example, INT8 quantization on Intel CPUs uses tensorization\n",
        "to invoke AVX instruction directly.\n",
        "It also enables TVM to compile to ASICs -\n",
        "checkout [`vta-index`](https://tvm.apache.org/docs/topic/vta/index.html#vta-index) for details.\n",
        "We also demonstrates how to use inline assembly importing,\n",
        "which helps users inject asm easily into the schedule.\n",
        "\n",
        "\n"
      ]
    }
  ],
  "metadata": {
    "kernelspec": {
      "display_name": "Python 3.8.13 ('py38')",
      "language": "python",
      "name": "python3"
    },
    "language_info": {
      "codemirror_mode": {
        "name": "ipython",
        "version": 3
      },
      "file_extension": ".py",
      "mimetype": "text/x-python",
      "name": "python",
      "nbconvert_exporter": "python",
      "pygments_lexer": "ipython3",
      "version": "3.8.13"
    },
    "vscode": {
      "interpreter": {
        "hash": "221bae69870c1675c4cfc152c4d60c3a5cfbb0e1cf1a5072332d9dded6c10f66"
      }
    }
  },
  "nbformat": 4,
  "nbformat_minor": 0
}
